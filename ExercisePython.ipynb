{
 "cells": [
  {
   "cell_type": "markdown",
   "metadata": {},
   "source": [
    "#Exercise 01 "
   ]
  },
  {
   "cell_type": "code",
   "execution_count": 1,
   "metadata": {},
   "outputs": [
    {
     "name": "stdout",
     "output_type": "stream",
     "text": [
      "Veuillez saisir le rayon du cône15\n",
      "Veuillez saisir la hauteur du cône20\n",
      "4712.38898038469\n"
     ]
    }
   ],
   "source": [
    "import math \n",
    "\n",
    "r = float(input(\"Veuillez saisir le rayon du cône\"))\n",
    "h = float(input(\"Veuillez saisir la hauteur du cône\"))\n",
    "\n",
    "# π × R² × h ÷ 3\n",
    "volume = (math.pi * r * r * h)/3\n",
    "\n",
    "print (volume)"
   ]
  },
  {
   "cell_type": "markdown",
   "metadata": {},
   "source": [
    "#Exercise 02"
   ]
  },
  {
   "cell_type": "code",
   "execution_count": 2,
   "metadata": {},
   "outputs": [
    {
     "name": "stdout",
     "output_type": "stream",
     "text": [
      "Entrez un entier strictement positif : 13\n",
      "Diviseurs propres sans repetition de 13 : aucun ! il est premier\n"
     ]
    }
   ],
   "source": [
    "x = int(input(\"Entrez un entier strictement positif : \"))\n",
    "\n",
    "divider = []\n",
    "\n",
    "for i in range (2,x):\n",
    "    if(x % i == 0):\n",
    "        divider.append(i)\n",
    "    \n",
    "output = \"Diviseurs propres sans repetition de \" + str(x) \n",
    "\n",
    "if(len(divider) > 0 ):\n",
    "    \n",
    "    output += \" : \" + str(divider)\n",
    "    output += \" (soit \"+ str(len(divider)) + \" diviseurs propres)\" \n",
    "else : \n",
    "    output += \" : aucun ! il est premier\"\n",
    "    \n",
    "print (output)\n"
   ]
  },
  {
   "cell_type": "markdown",
   "metadata": {},
   "source": [
    "#Exercise 03"
   ]
  },
  {
   "cell_type": "code",
   "execution_count": 3,
   "metadata": {},
   "outputs": [
    {
     "name": "stdout",
     "output_type": "stream",
     "text": [
      "Valeur calculée 2.7182818284590455\n",
      "Valeur Attendue 2.718281828459045\n",
      "Erreur d'approximation 4.440892098500626e-16\n"
     ]
    }
   ],
   "source": [
    "import math\n",
    "\n",
    "n = 100 \n",
    "sum = 0 \n",
    "\n",
    "for i in range (n):\n",
    "    sum += 1 / math.factorial(i)\n",
    "    \n",
    "print(\"Valeur calculée \" + str(sum))\n",
    "print(\"Valeur Attendue \" + str(math.e))\n",
    "print(\"Erreur d'approximation \" + str(math.fabs(sum - math.e)))\n",
    "\n",
    "\n"
   ]
  },
  {
   "cell_type": "markdown",
   "metadata": {},
   "source": [
    "#Exercise 04"
   ]
  },
  {
   "cell_type": "code",
   "execution_count": 10,
   "metadata": {},
   "outputs": [
    {
     "name": "stdout",
     "output_type": "stream",
     "text": [
      "calculation\n",
      "Il y a 2 occurences de la sequence ca dans votre chaîne.\n"
     ]
    }
   ],
   "source": [
    "def isValidADN(adn):\n",
    "    isValid = True\n",
    "    for char in str(adn):\n",
    "        isValid = char in 'atgc'\n",
    "    return isValid\n",
    "\n",
    "def inputADN():\n",
    "    adnChunk = str(input(\"Veuillez saisir la sequence de votre ADN : \"))\n",
    "    #adnChunk = \"attgcaatggtggtacatg\"\n",
    "    if(isValidADN(adnChunk)):\n",
    "        return adnChunk\n",
    "    else : \n",
    "        return ''\n",
    "\n",
    "\n",
    "def proportion(adn,seq):\n",
    "    print(\"calculation\")\n",
    "    index = 0\n",
    "    it = adn.count(seq)\n",
    "    output = \"Il y a \" + str(it) + \" occurences de la sequence \"\n",
    "    output += str(seq) +\" dans votre chaîne.\"\n",
    "    print (output)\n",
    "    \n",
    "    \n",
    "adn = inputADN()\n",
    "seq = str(input(\"Veuillez saisir la sequence recherché : \"))\n",
    "proportion(adn,seq)"
   ]
  },
  {
   "cell_type": "markdown",
   "metadata": {},
   "source": [
    "Exercise 05"
   ]
  },
  {
   "cell_type": "code",
   "execution_count": 13,
   "metadata": {},
   "outputs": [
    {
     "name": "stdout",
     "output_type": "stream",
     "text": [
      "[10, 20, 15.0]\n"
     ]
    }
   ],
   "source": [
    "import numpy as np\n",
    "\n",
    "def minMaxMoy(intList):\n",
    "    darr = np.array(intList)\n",
    "    return([darr.min(), darr.max() , np.average(darr)])\n",
    "\n",
    "arr = [10,18,14,20,12,16]\n",
    "\n",
    "print (minMaxMoy(arr))"
   ]
  },
  {
   "cell_type": "markdown",
   "metadata": {},
   "source": [
    "Execise 06"
   ]
  },
  {
   "cell_type": "code",
   "execution_count": 35,
   "metadata": {},
   "outputs": [
    {
     "name": "stdout",
     "output_type": "stream",
     "text": [
      "Veuillez saisir un entier entre 1 et 3999 : 466\n",
      "CDLXVI\n"
     ]
    }
   ],
   "source": [
    "nb = int(input(\"Veuillez saisir un entier entre 1 et 3999 : \"))\n",
    "\n",
    "\n",
    "output = \"\"\n",
    "\n",
    "def replaceToRoman(value, letter):\n",
    "    global nb\n",
    "    global output\n",
    "    if((nb / int(value)) > 0):\n",
    "        output += str(letter) * int(nb / int(value))\n",
    "        nb = nb % int(value)\n",
    "\n",
    "def replaceNumberToRoman():\n",
    "    replaceToRoman(1000,'M')\n",
    "    replaceToRoman(900,'MD')\n",
    "    replaceToRoman(500,'D')\n",
    "    replaceToRoman(400,'CD')        \n",
    "    replaceToRoman(100,'C')    \n",
    "    replaceToRoman(90,'LC')            \n",
    "    replaceToRoman(50,'L')        \n",
    "    replaceToRoman(10,'X')\n",
    "    replaceToRoman(9,'IX')\n",
    "    replaceToRoman(5,'V')\n",
    "    replaceToRoman(4,'IV')\n",
    "    replaceToRoman(1,'I')\n",
    "\n",
    "replaceNumberToRoman()\n",
    "\n",
    "print (output) "
   ]
  },
  {
   "cell_type": "markdown",
   "metadata": {},
   "source": [
    "Exercise 07"
   ]
  },
  {
   "cell_type": "code",
   "execution_count": 54,
   "metadata": {
    "scrolled": true
   },
   "outputs": [
    {
     "name": "stdout",
     "output_type": "stream",
     "text": [
      "Step : 0 , Result : -5\n",
      "Step : 0.5 , Result : -5\n",
      "Step : 1.0 , Result : 4\n",
      "Step : 1.5 , Result : 4\n",
      "Step : 2.0 , Result : 61\n",
      "Step : 2.5 , Result : 61\n",
      "Step : 3.0 , Result : 214\n",
      "Step : 3.5 , Result : 214\n",
      "Step : 4.0 , Result : 511\n",
      "Step : 4.5 , Result : 511\n"
     ]
    }
   ],
   "source": [
    "from sympy import * \n",
    "\n",
    "\n",
    "def maFonction():\n",
    "    x = symbols('x')\n",
    "    func = ((2 * x)**3) + x - 5\n",
    "    return func \n",
    "    \n",
    "def tabuler(fonction, borneInf, borneSup, nbPas):\n",
    "    if(borneInf < borneSup):\n",
    "        step = borneInf\n",
    "        x = symbols('x')\n",
    "        while(step < borneSup): \n",
    "            result = fonction.subs({x : int(step)})\n",
    "            print (\"Step : \" + str(step) + \" , Result : \"+ str(result))\n",
    "            step += nbPas\n",
    "        \n",
    "tabuler(maFonction(), 0 , 5 , .5)\n",
    "     "
   ]
  },
  {
   "cell_type": "markdown",
   "metadata": {},
   "source": [
    "Exercise 08"
   ]
  },
  {
   "cell_type": "code",
   "execution_count": 60,
   "metadata": {},
   "outputs": [
    {
     "name": "stdout",
     "output_type": "stream",
     "text": [
      "X : {'a', 'd', 'b', 'c'}\n"
     ]
    },
    {
     "ename": "TypeError",
     "evalue": "can only concatenate str (not \"set\") to str",
     "output_type": "error",
     "traceback": [
      "\u001b[1;31m---------------------------------------------------------------------------\u001b[0m",
      "\u001b[1;31mTypeError\u001b[0m                                 Traceback (most recent call last)",
      "\u001b[1;32m<ipython-input-60-a4b3b248b851>\u001b[0m in \u001b[0;36m<module>\u001b[1;34m\u001b[0m\n\u001b[0;32m      3\u001b[0m \u001b[1;33m\u001b[0m\u001b[0m\n\u001b[0;32m      4\u001b[0m \u001b[0mprint\u001b[0m \u001b[1;33m(\u001b[0m\u001b[1;34m\"X : \"\u001b[0m \u001b[1;33m+\u001b[0m \u001b[0mstr\u001b[0m\u001b[1;33m(\u001b[0m\u001b[0mX\u001b[0m\u001b[1;33m)\u001b[0m\u001b[1;33m)\u001b[0m\u001b[1;33m\u001b[0m\u001b[1;33m\u001b[0m\u001b[0m\n\u001b[1;32m----> 5\u001b[1;33m \u001b[0mprint\u001b[0m \u001b[1;33m(\u001b[0m\u001b[1;34m\"Y : \"\u001b[0m \u001b[1;33m+\u001b[0m \u001b[0mY\u001b[0m\u001b[1;33m)\u001b[0m\u001b[1;33m\u001b[0m\u001b[1;33m\u001b[0m\u001b[0m\n\u001b[0m",
      "\u001b[1;31mTypeError\u001b[0m: can only concatenate str (not \"set\") to str"
     ]
    }
   ],
   "source": []
  },
  {
   "cell_type": "code",
   "execution_count": null,
   "metadata": {},
   "outputs": [],
   "source": []
  }
 ],
 "metadata": {
  "kernelspec": {
   "display_name": "Python 3",
   "language": "python",
   "name": "python3"
  },
  "language_info": {
   "codemirror_mode": {
    "name": "ipython",
    "version": 3
   },
   "file_extension": ".py",
   "mimetype": "text/x-python",
   "name": "python",
   "nbconvert_exporter": "python",
   "pygments_lexer": "ipython3",
   "version": "3.7.4"
  }
 },
 "nbformat": 4,
 "nbformat_minor": 2
}
