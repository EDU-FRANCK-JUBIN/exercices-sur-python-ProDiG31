{
 "cells": [
  {
   "cell_type": "markdown",
   "metadata": {},
   "source": [
    "# Exercice 1"
   ]
  },
  {
   "cell_type": "code",
   "execution_count": 6,
   "metadata": {},
   "outputs": [
    {
     "name": "stdout",
     "output_type": "stream",
     "text": [
      "3.141584799578707\n"
     ]
    }
   ],
   "source": [
    "p = 1 \n",
    "for i in range (1,100000):\n",
    "    t = (4 * i * i)/(4 * i * i - 1)\n",
    "    p *= t\n",
    "    \n",
    "print (2 * p)\n"
   ]
  },
  {
   "cell_type": "markdown",
   "metadata": {},
   "source": [
    "# Exercice 2"
   ]
  },
  {
   "cell_type": "code",
   "execution_count": 7,
   "metadata": {},
   "outputs": [
    {
     "data": {
      "text/plain": [
       "'142889 days, 19:15:12'"
      ]
     },
     "execution_count": 7,
     "metadata": {},
     "output_type": "execute_result"
    }
   ],
   "source": [
    "import datetime\n",
    "\n",
    "nsd = 12345678912\n",
    "\n",
    "str(datetime.timedelta(seconds=nsd))"
   ]
  },
  {
   "cell_type": "markdown",
   "metadata": {},
   "source": [
    "# Exercice 3"
   ]
  },
  {
   "cell_type": "code",
   "execution_count": 6,
   "metadata": {},
   "outputs": [
    {
     "name": "stdout",
     "output_type": "stream",
     "text": [
      "[32, 12, 8, 2]\n",
      "[5, 3, 75, 15]\n"
     ]
    }
   ],
   "source": [
    "tt = [32,5,12,8,3,75,2,15]\n",
    "\n",
    "ttpair = []\n",
    "ttNotPair = []\n",
    "\n",
    "for i in tt:\n",
    "    if(i % 2 == 0):\n",
    "        ttpair.append(i)\n",
    "    else:\n",
    "        ttNotPair.append(i)\n",
    "\n",
    "print(ttpair)\n",
    "print(ttNotPair)"
   ]
  },
  {
   "cell_type": "markdown",
   "metadata": {},
   "source": [
    "# Exercice 4"
   ]
  },
  {
   "cell_type": "code",
   "execution_count": 12,
   "metadata": {},
   "outputs": [
    {
     "name": "stdout",
     "output_type": "stream",
     "text": [
      "29.5 m²\n",
      "44.25 minutes\n"
     ]
    }
   ],
   "source": [
    "space1 = 1.5 * 5\n",
    "space2 = 3 * 1\n",
    "space3 = 2 * (6.5 - (3 + 1.5))\n",
    "space4 = (5 - 2) * (6.5 - 1.5)\n",
    "\n",
    "AllSpace = space1+space2+space3+space4\n",
    "print (str(AllSpace) + \" m²\")\n",
    "    \n",
    "TimeAllInMin = (AllSpace / 80) * 120\n",
    "print(str(TimeAllInMin) + \" minutes\")"
   ]
  },
  {
   "cell_type": "code",
   "execution_count": 13,
   "metadata": {},
   "outputs": [
    {
     "name": "stdout",
     "output_type": "stream",
     "text": [
      "\n"
     ]
    }
   ],
   "source": [
    "import turtle as tu\n",
    "\n",
    "dictionnaire = {\"Zone1\": [15,50,'red'],\n",
    "                \"Zone2\": [50,10,'blue'],\n",
    "                \"Zone3\": [30,10,'grey'],\n",
    "                \"Zone4\": [20,10,'orange'],\n",
    "                \"Zone5\": [50,30,'green']}\n",
    "\n",
    "def drawRectangle(dic):   \n",
    "    hauteur = dic[0]\n",
    "    largeur = dic[1]\n",
    "    color = dic[2]\n",
    "    tu.color(color)\n",
    "    tu.begin_fill()\n",
    "    tu.fd(largeur)\n",
    "    tu.rt(90)\n",
    "    tu.fd(hauteur)\n",
    "    tu.rt(90)\n",
    "    tu.fd(largeur)\n",
    "    tu.rt(90)\n",
    "    tu.fd(hauteur)\n",
    "    tu.end_fill()\n",
    "    \n",
    "drawRectangle(dictionnaire[\"Zone1\"])\n",
    "\n",
    "tu.penup()\n",
    "tu.rt(180)\n",
    "tu.fd(15)\n",
    "tu.lt(90)\n",
    "tu.pendown()\n",
    "\n",
    "drawRectangle(dictionnaire[\"Zone2\"])\n",
    "\n",
    "tu.penup()\n",
    "tu.rt(180)\n",
    "tu.fd(30)\n",
    "tu.lt(90)\n",
    "tu.fd(10)\n",
    "tu.pendown()\n",
    "\n",
    "drawRectangle(dictionnaire[\"Zone4\"])\n",
    "\n",
    "tu.penup()\n",
    "tu.rt(90)\n",
    "tu.fd(10)\n",
    "tu.lt(90)\n",
    "tu.fd(30)\n",
    "tu.rt(90)\n",
    "tu.pendown()\n",
    "\n",
    "drawRectangle(dictionnaire[\"Zone5\"])\n",
    "\n",
    "tu.penup()\n",
    "tu.lt(90)\n",
    "tu.fd(10)\n",
    "tu.lt(180)\n",
    "tu.pendown()\n",
    "\n",
    "drawRectangle(dictionnaire[\"Zone3\"])\n",
    "\n",
    "input()\n",
    "tu.bye()\n"
   ]
  },
  {
   "cell_type": "markdown",
   "metadata": {},
   "source": [
    "# Exercice 5"
   ]
  },
  {
   "cell_type": "code",
   "execution_count": 25,
   "metadata": {},
   "outputs": [],
   "source": [
    "\n",
    "def max(a,b):\n",
    "    if(a > b):\n",
    "        return a\n",
    "    else:\n",
    "        return b\n",
    "\n",
    "def max(a,b,c):\n",
    "    return (max(a,max(b,c)))\n",
    "\n",
    "\n",
    "def factoriel(a):\n",
    "    if(a > 1):\n",
    "        return (a * factoriel(a - 1))\n",
    "    else : \n",
    "        return 0\n",
    "\n",
    "#def orderList(a):\n",
    "    \n"
   ]
  },
  {
   "cell_type": "code",
   "execution_count": 53,
   "metadata": {},
   "outputs": [
    {
     "data": {
      "image/png": "[encoded data removed]",
      "text/plain": [
       "<Figure size 432x288 with 1 Axes>"
      ]
     },
     "metadata": {
      "needs_background": "light"
     },
     "output_type": "display_data"
    }
   ],
   "source": [
    "import matplotlib.pyplot as plt\n",
    "plt.plot([ 1, 2, 3, 4])\n",
    "plt.ylabel('some number')\n",
    "plt.show()"
   ]
  },
  {
   "cell_type": "code",
   "execution_count": null,
   "metadata": {},
   "outputs": [],
   "source": []
  }
 ],
 "metadata": {
  "kernelspec": {
   "display_name": "Python 3",
   "language": "python",
   "name": "python3"
  },
  "language_info": {
   "codemirror_mode": {
    "name": "ipython",
    "version": 3
   },
   "file_extension": ".py",
   "mimetype": "text/x-python",
   "name": "python",
   "nbconvert_exporter": "python",
   "pygments_lexer": "ipython3",
   "version": "3.7.4"
  }
 },
 "nbformat": 4,
 "nbformat_minor": 2
}
