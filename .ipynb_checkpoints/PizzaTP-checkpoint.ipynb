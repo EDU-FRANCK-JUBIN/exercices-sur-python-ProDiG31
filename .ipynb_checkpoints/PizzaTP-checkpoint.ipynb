{
 "cells": [
  {
   "cell_type": "code",
   "execution_count": 8,
   "metadata": {},
   "outputs": [
    {
     "name": "stdout",
     "output_type": "stream",
     "text": [
      "['zdq', 'dzqdq', 'zdqdqzd', 'qzdqzd']\n"
     ]
    }
   ],
   "source": [
    "from easygui import *\n",
    "\n",
    "saisiePersonnel = ''\n",
    "nbPizz = 0\n",
    "\n",
    "def firstScreen():\n",
    "    message = \"Desirez vous commander une ou plusieurs pizzas\"\n",
    "    title = \"Pizza 24\"\n",
    "    reponse = msgbox(message, title, \"Commander\")\n",
    "\n",
    "def SecondScreen():\n",
    "    global saisiePersonnel\n",
    "    message = \"Entrez vos données personnel\"\n",
    "    title = \"Information Personnel\"\n",
    "    fields = (\"Nom\", \"Prénom\", \"telephone\", \"email\")\n",
    "    saisiePersonnel = multenterbox(message,title, fields)\n",
    "    \n",
    "def ThirdScreen():\n",
    "    global nbPizz\n",
    "    title = \"Nb Pizzz\"\n",
    "    message = \"Combien pizza voulez vous ?\"\n",
    "    min = 1\n",
    "    max = 20\n",
    "    default = 1\n",
    "    nbPizz = intergerbox(message,title, default, min , max)\n",
    "    \n",
    "firstScreen()\n",
    "SecondScreen()\n",
    "\n",
    "print (saisiePersonnel)\n",
    "ThirdScreen()\n",
    "print (nbPizz)\n",
    "\n",
    "pizzzzz = []\n",
    "for (i in range(1, nbPizz)){\n",
    "    \n",
    "}\n"
   ]
  },
  {
   "cell_type": "code",
   "execution_count": null,
   "metadata": {},
   "outputs": [],
   "source": []
  }
 ],
 "metadata": {
  "kernelspec": {
   "display_name": "Python 3",
   "language": "python",
   "name": "python3"
  },
  "language_info": {
   "codemirror_mode": {
    "name": "ipython",
    "version": 3
   },
   "file_extension": ".py",
   "mimetype": "text/x-python",
   "name": "python",
   "nbconvert_exporter": "python",
   "pygments_lexer": "ipython3",
   "version": "3.7.4"
  }
 },
 "nbformat": 4,
 "nbformat_minor": 2
}
