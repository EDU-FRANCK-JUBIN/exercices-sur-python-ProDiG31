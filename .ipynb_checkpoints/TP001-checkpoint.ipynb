{
 "cells": [
  {
   "cell_type": "markdown",
   "metadata": {},
   "source": [
    "# Exercise 1"
   ]
  },
  {
   "cell_type": "code",
   "execution_count": 6,
   "metadata": {},
   "outputs": [
    {
     "name": "stdout",
     "output_type": "stream",
     "text": [
      "[32, 12, 8, 2]\n",
      "[5, 3, 75, 15]\n"
     ]
    }
   ],
   "source": [
    "tt = [32,5,12,8,3,75,2,15]\n",
    "\n",
    "ttpair = []\n",
    "ttNotPair = []\n",
    "\n",
    "for i in tt:\n",
    "    if(i % 2 == 0):\n",
    "        ttpair.append(i)\n",
    "    else:\n",
    "        ttNotPair.append(i)\n",
    "        \n",
    "print(ttpair)\n",
    "print(ttNotPair)"
   ]
  },
  {
   "cell_type": "markdown",
   "metadata": {},
   "source": [
    "# Exercise 2"
   ]
  },
  {
   "cell_type": "code",
   "execution_count": null,
   "metadata": {},
   "outputs": [],
   "source": [
    "import turtle as tu\n",
    "\n",
    "tu.forward(120)\n",
    "tu.left(90)\n",
    "tu.color('red')\n",
    "tu.forward(80)\n",
    "input()\n"
   ]
  }
 ],
 "metadata": {
  "kernelspec": {
   "display_name": "Python 3",
   "language": "python",
   "name": "python3"
  },
  "language_info": {
   "codemirror_mode": {
    "name": "ipython",
    "version": 3
   },
   "file_extension": ".py",
   "mimetype": "text/x-python",
   "name": "python",
   "nbconvert_exporter": "python",
   "pygments_lexer": "ipython3",
   "version": "3.7.4"
  }
 },
 "nbformat": 4,
 "nbformat_minor": 2
}
